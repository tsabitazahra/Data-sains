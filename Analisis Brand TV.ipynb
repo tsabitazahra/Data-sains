{
 "cells": [
  {
   "cell_type": "code",
   "execution_count": 1,
   "metadata": {},
   "outputs": [],
   "source": [
    "import pandas as pd\n",
    "import numpy as np"
   ]
  },
  {
   "cell_type": "code",
   "execution_count": 2,
   "metadata": {},
   "outputs": [
    {
     "name": "stdout",
     "output_type": "stream",
     "text": [
      "       Brand     Resolution  Size   Selling Price  Original Price  \\\n",
      "0    TOSHIBA   Ultra HD LED     55          37999           54990   \n",
      "1       TCL   QLED Ultra HD     55          52999          129990   \n",
      "2    realme          HD LED     32          13999           17999   \n",
      "3        Mi          HD LED     32          14999           19999   \n",
      "4    realme          HD LED     32          12999           21999   \n",
      "..       ...            ...    ...            ...             ...   \n",
      "907    SONY     Full HD LED     43          44999           57900   \n",
      "908    SONY     Full HD LED     40          41499           51900   \n",
      "909    SONY    Ultra HD LED     65         149990          184990   \n",
      "910    SONY          HD LED     32          32900           32900   \n",
      "911    SONY     Full HD LED     43          56900           56900   \n",
      "\n",
      "    Operating System  Rating  \n",
      "0              VIDAA     4.3  \n",
      "1            Android     4.4  \n",
      "2            Android     4.3  \n",
      "3            Android     4.4  \n",
      "4            Android     4.3  \n",
      "..               ...     ...  \n",
      "907            Linux     4.4  \n",
      "908            Linux     4.6  \n",
      "909            Linux     4.3  \n",
      "910            Linux     4.4  \n",
      "911            Linux     4.6  \n",
      "\n",
      "[912 rows x 7 columns]\n"
     ]
    }
   ],
   "source": [
    "data = pd.read_csv(r'D:\\KULIAH\\SEMESTER 5\\Data Sains\\TV_Final.csv')\n",
    "print(data)"
   ]
  },
  {
   "cell_type": "code",
   "execution_count": 3,
   "metadata": {},
   "outputs": [
    {
     "data": {
      "text/plain": [
       "Brand                 0\n",
       "Resolution            0\n",
       "Size                  0\n",
       "Selling Price         0\n",
       "Original Price        0\n",
       "Operating System     11\n",
       "Rating              220\n",
       "dtype: int64"
      ]
     },
     "execution_count": 3,
     "metadata": {},
     "output_type": "execute_result"
    }
   ],
   "source": [
    "data.isnull().sum()"
   ]
  },
  {
   "cell_type": "code",
   "execution_count": 4,
   "metadata": {},
   "outputs": [
    {
     "data": {
      "text/plain": [
       "Android      474\n",
       "Tizen        145\n",
       "Linux        127\n",
       "WebOS        109\n",
       "HomeOS        28\n",
       "VIDAA         13\n",
       "FireTV OS      5\n",
       "Name: Operating System, dtype: int64"
      ]
     },
     "execution_count": 4,
     "metadata": {},
     "output_type": "execute_result"
    }
   ],
   "source": [
    "data['Operating System'].value_counts()"
   ]
  },
  {
   "cell_type": "code",
   "execution_count": 5,
   "metadata": {},
   "outputs": [],
   "source": [
    "data['Rating']=data['Rating'].fillna(data['Rating'].mean())\n",
    "data['Operating System']=data['Operating System'].fillna('Android')"
   ]
  },
  {
   "cell_type": "code",
   "execution_count": 6,
   "metadata": {},
   "outputs": [
    {
     "data": {
      "text/plain": [
       "Brand               0\n",
       "Resolution          0\n",
       "Size                0\n",
       "Selling Price       0\n",
       "Original Price      0\n",
       "Operating System    0\n",
       "Rating              0\n",
       "dtype: int64"
      ]
     },
     "execution_count": 6,
     "metadata": {},
     "output_type": "execute_result"
    }
   ],
   "source": [
    "data.isnull().sum()"
   ]
  },
  {
   "cell_type": "code",
   "execution_count": 7,
   "metadata": {},
   "outputs": [
    {
     "data": {
      "text/plain": [
       "Brand\n",
       "SAMSUNG             140\n",
       "LG                  122\n",
       "SONY                 62\n",
       "TCL                  44\n",
       "Panasonic            30\n",
       "Micromax             25\n",
       "Vu                   23\n",
       "Lloyd                22\n",
       "Mi                   19\n",
       "iFFALCON by TCL      19\n",
       "Sansui               18\n",
       "Thomson              18\n",
       "Haier                18\n",
       "PHILIPS              17\n",
       "MOTOROLA             15\n",
       "KODAK                15\n",
       "Blaupunkt            15\n",
       "TOSHIBA              13\n",
       "IMPEX                13\n",
       "Onida                12\n",
       "Croma                12\n",
       "Candes               12\n",
       "Nokia                11\n",
       "Power Guard          11\n",
       "T-Series             11\n",
       "Hisense              10\n",
       "Acer                  9\n",
       "RGL                   9\n",
       "OnePlus               9\n",
       "Coocaa                9\n",
       "CloudWalker           9\n",
       "G-TEN                 8\n",
       "MarQ by Flipkart      8\n",
       "AISEN                 8\n",
       "Sharp                 8\n",
       "Onix                  8\n",
       "realme                7\n",
       "Adsun                 7\n",
       "Intex                 7\n",
       "HUIDI                 6\n",
       "Akai                  6\n",
       "Dyanora               6\n",
       "Samsung               6\n",
       "LumX                  6\n",
       "JVC                   6\n",
       "Compaq                5\n",
       "Weston                5\n",
       "VG                    4\n",
       "BPL                   4\n",
       "MURPHY                4\n",
       "Dektron               4\n",
       "Oxygen                3\n",
       "KRISONS               3\n",
       "DETEL                 3\n",
       "Infinix               3\n",
       "Sanyo                 2\n",
       "Maser                 1\n",
       "Skyworth              1\n",
       "Sun King              1\n",
       "Name: Brand, dtype: int64"
      ]
     },
     "execution_count": 7,
     "metadata": {},
     "output_type": "execute_result"
    }
   ],
   "source": [
    "data['Brand'].groupby(data['Brand']).count().sort_values(ascending=False)"
   ]
  },
  {
   "cell_type": "code",
   "execution_count": 8,
   "metadata": {},
   "outputs": [
    {
     "data": {
      "text/plain": [
       "LG         7\n",
       "SAMSUNG    3\n",
       "SONY       2\n",
       "Haier      2\n",
       "Intex      1\n",
       "Onida      1\n",
       "Lloyd      1\n",
       "Croma      1\n",
       "Name: Brand, dtype: int64"
      ]
     },
     "execution_count": 8,
     "metadata": {},
     "output_type": "execute_result"
    }
   ],
   "source": [
    "rating5=data['Rating']>=5\n",
    "data['Brand'][rating5].value_counts()"
   ]
  },
  {
   "cell_type": "code",
   "execution_count": 9,
   "metadata": {},
   "outputs": [
    {
     "data": {
      "text/plain": [
       "Brand\n",
       "SONY                4.5\n",
       "OnePlus             4.4\n",
       "Vu                  4.4\n",
       "MOTOROLA            4.3\n",
       "Haier               4.3\n",
       "Hisense             4.3\n",
       "Compaq              4.3\n",
       "Mi                  4.3\n",
       "Onida               4.3\n",
       "TOSHIBA             4.3\n",
       "Thomson             4.3\n",
       "KODAK               4.3\n",
       "realme              4.3\n",
       "iFFALCON by TCL     4.3\n",
       "MarQ by Flipkart    4.3\n",
       "LG                  4.3\n",
       "Nokia               4.3\n",
       "SAMSUNG             4.3\n",
       "Onix                4.3\n",
       "Dektron             4.3\n",
       "Coocaa              4.2\n",
       "Blaupunkt           4.2\n",
       "Weston              4.2\n",
       "Akai                4.2\n",
       "Power Guard         4.2\n",
       "Sun King            4.2\n",
       "KRISONS             4.2\n",
       "VG                  4.2\n",
       "Oxygen              4.2\n",
       "TCL                 4.2\n",
       "Panasonic           4.2\n",
       "Infinix             4.2\n",
       "Sanyo               4.2\n",
       "IMPEX               4.2\n",
       "Croma               4.2\n",
       "Intex               4.2\n",
       "Sansui              4.2\n",
       "LumX                4.2\n",
       "T-Series            4.2\n",
       "Micromax            4.1\n",
       "PHILIPS             4.1\n",
       "HUIDI               4.1\n",
       "Lloyd               4.1\n",
       "AISEN               4.1\n",
       "BPL                 4.1\n",
       "CloudWalker         4.1\n",
       "Samsung             4.1\n",
       "Candes              4.1\n",
       "JVC                 4.0\n",
       "DETEL               4.0\n",
       "Sharp               4.0\n",
       "Dyanora             4.0\n",
       "Acer                3.9\n",
       "RGL                 3.9\n",
       "G-TEN               3.8\n",
       "Adsun               3.8\n",
       "Maser               3.8\n",
       "MURPHY              3.4\n",
       "Skyworth            3.0\n",
       "Name: Rating, dtype: float64"
      ]
     },
     "execution_count": 9,
     "metadata": {},
     "output_type": "execute_result"
    }
   ],
   "source": [
    " round(data.groupby('Brand')['Rating'].mean().sort_values(ascending=False),1)"
   ]
  },
  {
   "cell_type": "code",
   "execution_count": 18,
   "metadata": {},
   "outputs": [
    {
     "data": {
      "text/plain": [
       "Brand\n",
       "KRISONS               5865.7\n",
       "Dektron               6724.0\n",
       "Maser                 7499.0\n",
       "Skyworth              8659.0\n",
       "RGL                  11106.4\n",
       "MURPHY               12817.2\n",
       "Candes               13415.7\n",
       "Adsun                15220.4\n",
       "Dyanora              15515.7\n",
       "G-TEN                16918.4\n",
       "Infinix              17165.7\n",
       "T-Series             17179.2\n",
       "MarQ by Flipkart     17749.0\n",
       "DETEL                18110.7\n",
       "HUIDI                18165.7\n",
       "VG                   19492.2\n",
       "Croma                22365.7\n",
       "KODAK                23665.1\n",
       "Blaupunkt            23712.3\n",
       "realme               24427.6\n",
       "Coocaa               24442.4\n",
       "LumX                 24858.3\n",
       "Sun King             24999.0\n",
       "Thomson              25249.0\n",
       "Micromax             26869.6\n",
       "Intex                27340.7\n",
       "IMPEX                28819.4\n",
       "Onida                29707.2\n",
       "Power Guard          30509.7\n",
       "Mi                   30787.1\n",
       "Acer                 31664.7\n",
       "CloudWalker          32331.3\n",
       "JVC                  32496.3\n",
       "PHILIPS              34113.8\n",
       "Lloyd                34161.8\n",
       "Onix                 34216.2\n",
       "BPL                  34617.2\n",
       "AISEN                35462.5\n",
       "Haier                36616.2\n",
       "Sansui               37671.9\n",
       "MOTOROLA             38399.0\n",
       "TOSHIBA              38852.8\n",
       "Nokia                38862.6\n",
       "Oxygen               40326.3\n",
       "Weston               43390.0\n",
       "Sanyo                45499.0\n",
       "Compaq               45999.0\n",
       "Vu                   46649.9\n",
       "OnePlus              47375.8\n",
       "Akai                 52002.8\n",
       "Panasonic            53494.0\n",
       "iFFALCON by TCL      54234.4\n",
       "TCL                  55798.3\n",
       "SONY                 89342.8\n",
       "Hisense              89795.4\n",
       "LG                   96914.4\n",
       "SAMSUNG             106409.2\n",
       "Samsung             121630.0\n",
       "Sharp               149672.0\n",
       "Name: Selling Price, dtype: float64"
      ]
     },
     "execution_count": 18,
     "metadata": {},
     "output_type": "execute_result"
    }
   ],
   "source": [
    "round(data.groupby('Brand')['Selling Price'].mean().sort_values(ascending=True),1)"
   ]
  },
  {
   "cell_type": "code",
   "execution_count": 11,
   "metadata": {},
   "outputs": [
    {
     "data": {
      "image/png": "[encoded data removed]",
      "text/plain": [
       "<Figure size 432x72 with 1 Axes>"
      ]
     },
     "metadata": {
      "needs_background": "light"
     },
     "output_type": "display_data"
    }
   ],
   "source": [
    "import matplotlib.pyplot as plt\n",
    "import seaborn as sns\n",
    "colors = [\"#EF233C\",\"#eb5e28\",\"#d68c45\",\"#00bbf9\",\"#274c77\",\"#3a0ca3\"]\n",
    "palette = sns.color_palette(palette = colors)\n",
    "\n",
    "sns.palplot(palette, size =1)\n",
    "plt.show()"
   ]
  },
  {
   "cell_type": "code",
   "execution_count": 20,
   "metadata": {},
   "outputs": [
    {
     "data": {
      "image/png": "[encoded data removed]",
      "text/plain": [
       "<Figure size 1440x360 with 2 Axes>"
      ]
     },
     "metadata": {
      "needs_background": "light"
     },
     "output_type": "display_data"
    }
   ],
   "source": [
    "list1 = [\"SONY\",\"OnePlus\",\"Haier\",\"TOSHIBA\",\"MOTOROLA\",\"Acer\",\"Compaq\",\n",
    "        \"KODAK\",\"LG\",\"realme\",\"SAMSUNG\",\"Nokia\",\"Panasonic\",\"PHILIPS\",\"Samsung\",\"Coocaa\"]\n",
    "\n",
    "list2 = [\"Hisense\",\"Thomson\",\"Onix\",\"Dektron\",\"iFFALCON by TCL\",\"MarQ by Flipkart\",\"Nokia\",\"Blaupunkt\",\"Weston\",\"TCL\",\n",
    "        \"Infinix\",\"Sanyo\",\"Intex\",\"IMPEX\",\"Croma\",\"HUIDI\",\"CloudWalker\",\"Lloyd\",\"Candes\",\"Detel\",\"LumX\",\"JVC\",\"Micromax\",\"Onida\",\n",
    "        \"Vu\",\"Sansui\"]\n",
    "series1 = data[\"Brand\"].isin(list1)\n",
    "series2 = data[\"Brand\"].isin(list2)\n",
    "data_f1= data[series1]\n",
    "data_f2= data[series2]\n",
    "fig, axs = plt.subplots(ncols=2,figsize=(20,5))\n",
    "ax1 = sns.stripplot(x=\"Rating\", y=\"Selling Price\", data=data_f1,hue=\"Brand\", palette=colors,ax=axs[0])\n",
    "ax2 = sns.stripplot(x=\"Rating\", y=\"Selling Price\", data=data_f2,hue=\"Brand\", palette=colors,ax=axs[1])"
   ]
  },
  {
   "cell_type": "code",
   "execution_count": 19,
   "metadata": {},
   "outputs": [
    {
     "data": {
      "text/plain": [
       "Brand\n",
       "Sharp               149672.0\n",
       "Samsung             121630.0\n",
       "SAMSUNG             106409.2\n",
       "LG                   96914.4\n",
       "Hisense              89795.4\n",
       "SONY                 89342.8\n",
       "TCL                  55798.3\n",
       "iFFALCON by TCL      54234.4\n",
       "Panasonic            53494.0\n",
       "Akai                 52002.8\n",
       "OnePlus              47375.8\n",
       "Vu                   46649.9\n",
       "Compaq               45999.0\n",
       "Sanyo                45499.0\n",
       "Weston               43390.0\n",
       "Oxygen               40326.3\n",
       "Nokia                38862.6\n",
       "TOSHIBA              38852.8\n",
       "MOTOROLA             38399.0\n",
       "Sansui               37671.9\n",
       "Haier                36616.2\n",
       "AISEN                35462.5\n",
       "BPL                  34617.2\n",
       "Onix                 34216.2\n",
       "Lloyd                34161.8\n",
       "PHILIPS              34113.8\n",
       "JVC                  32496.3\n",
       "CloudWalker          32331.3\n",
       "Acer                 31664.7\n",
       "Mi                   30787.1\n",
       "Power Guard          30509.7\n",
       "Onida                29707.2\n",
       "IMPEX                28819.4\n",
       "Intex                27340.7\n",
       "Micromax             26869.6\n",
       "Thomson              25249.0\n",
       "Sun King             24999.0\n",
       "LumX                 24858.3\n",
       "Coocaa               24442.4\n",
       "realme               24427.6\n",
       "Blaupunkt            23712.3\n",
       "KODAK                23665.1\n",
       "Croma                22365.7\n",
       "VG                   19492.2\n",
       "HUIDI                18165.7\n",
       "DETEL                18110.7\n",
       "MarQ by Flipkart     17749.0\n",
       "T-Series             17179.2\n",
       "Infinix              17165.7\n",
       "G-TEN                16918.4\n",
       "Dyanora              15515.7\n",
       "Adsun                15220.4\n",
       "Candes               13415.7\n",
       "MURPHY               12817.2\n",
       "RGL                  11106.4\n",
       "Skyworth              8659.0\n",
       "Maser                 7499.0\n",
       "Dektron               6724.0\n",
       "KRISONS               5865.7\n",
       "Name: Selling Price, dtype: float64"
      ]
     },
     "execution_count": 19,
     "metadata": {},
     "output_type": "execute_result"
    }
   ],
   "source": [
    "round(data.groupby('Brand')['Selling Price'].mean().sort_values(ascending=False),1)"
   ]
  },
  {
   "cell_type": "code",
   "execution_count": null,
   "metadata": {},
   "outputs": [],
   "source": []
  }
 ],
 "metadata": {
  "kernelspec": {
   "display_name": "Python 3",
   "language": "python",
   "name": "python3"
  },
  "language_info": {
   "codemirror_mode": {
    "name": "ipython",
    "version": 3
   },
   "file_extension": ".py",
   "mimetype": "text/x-python",
   "name": "python",
   "nbconvert_exporter": "python",
   "pygments_lexer": "ipython3",
   "version": "3.8.3"
  }
 },
 "nbformat": 4,
 "nbformat_minor": 4
}
