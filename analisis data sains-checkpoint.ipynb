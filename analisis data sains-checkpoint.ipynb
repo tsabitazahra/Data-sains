{
 "cells": [
  {
   "cell_type": "code",
   "execution_count": 1,
   "metadata": {},
   "outputs": [],
   "source": [
    "#import pandas untuk input file csv\n",
    "import pandas as pd"
   ]
  },
  {
   "cell_type": "code",
   "execution_count": 3,
   "metadata": {},
   "outputs": [
    {
     "name": "stdout",
     "output_type": "stream",
     "text": [
      "        order_id  voucher_amount                   date_time  eta_seconds  \\\n",
      "0     FOOD-10455               0  2018-08-12T20:35:08.001006         1800   \n",
      "1     FOOD-10985               0  2018-09-23T17:44:12.243273         2173   \n",
      "2     FOOD-10911               0  2018-09-19T18:08:09.387991         1418   \n",
      "3     FOOD-10932               0  2018-09-21T01:24:35.272499         1903   \n",
      "4     FOOD-10961               0  2018-09-22T17:57:45.523161         1716   \n",
      "...          ...             ...                         ...          ...   \n",
      "1071  FOOD-10921               0  2018-09-20T15:01:52.152828          900   \n",
      "1072  FOOD-10265            5000  2018-07-26T14:43:23.655294         1579   \n",
      "1073  FOOD-10534               0  2018-08-21T20:10:59.283185         2606   \n",
      "1074  FOOD-10158               0  2018-07-16T14:42:23.214427         2428   \n",
      "1075  FOOD-10770               0  2018-09-11T14:18:19.494258         1547   \n",
      "\n",
      "      food_price  cust_id  rating  delivery_fee   resto_id     status  \\\n",
      "0          18900  1089034     5.0          4000  742638033  Completed   \n",
      "1         149000   180146     5.0         11000  742767245  Completed   \n",
      "2          43800   366528     NaN          9000  742618303  Completed   \n",
      "3          39900   511038     5.0         14000  742541172  Completed   \n",
      "4          77700  1220358     NaN          4000  742604875  Completed   \n",
      "...          ...      ...     ...           ...        ...        ...   \n",
      "1071      103200  1296335     5.0          4000  742742150  Completed   \n",
      "1072      145700  1135466     5.0          7000  742566851  Completed   \n",
      "1073      177200  1383625     NaN         15000  742571888  Completed   \n",
      "1074       49300  1094787     5.0          9000  742725064  Completed   \n",
      "1075       43000  1010922     5.0          9000  742594499  Completed   \n",
      "\n",
      "      random_id  \n",
      "0      0.511149  \n",
      "1      0.832936  \n",
      "2      0.828026  \n",
      "3      0.239377  \n",
      "4      0.995587  \n",
      "...         ...  \n",
      "1071   0.248328  \n",
      "1072   0.268251  \n",
      "1073   0.132528  \n",
      "1074   0.167946  \n",
      "1075   0.358051  \n",
      "\n",
      "[1076 rows x 11 columns]\n"
     ]
    }
   ],
   "source": [
    "#input data food delivery datasets\n",
    "data = pd.read_csv(r'D:\\KULIAH\\SEMESTER 5\\Data Sains\\food_delivery_datasets.csv')\n",
    "print(data)"
   ]
  },
  {
   "cell_type": "code",
   "execution_count": 4,
   "metadata": {},
   "outputs": [
    {
     "data": {
      "text/plain": [
       "resto_id\n",
       "200000639    1\n",
       "200000964    2\n",
       "200001006    1\n",
       "200001973    1\n",
       "200001979    1\n",
       "            ..\n",
       "742808523    1\n",
       "742809792    1\n",
       "742810086    1\n",
       "742813095    2\n",
       "742814735    1\n",
       "Name: resto_id, Length: 671, dtype: int64"
      ]
     },
     "execution_count": 4,
     "metadata": {},
     "output_type": "execute_result"
    }
   ],
   "source": [
    "id_resto=data.groupby(\"resto_id\")\n",
    "id_resto[\"resto_id\"].count()"
   ]
  },
  {
   "cell_type": "code",
   "execution_count": 9,
   "metadata": {},
   "outputs": [
    {
     "data": {
      "text/html": [
       "<div>\n",
       "<style scoped>\n",
       "    .dataframe tbody tr th:only-of-type {\n",
       "        vertical-align: middle;\n",
       "    }\n",
       "\n",
       "    .dataframe tbody tr th {\n",
       "        vertical-align: top;\n",
       "    }\n",
       "\n",
       "    .dataframe thead th {\n",
       "        text-align: right;\n",
       "    }\n",
       "</style>\n",
       "<table border=\"1\" class=\"dataframe\">\n",
       "  <thead>\n",
       "    <tr style=\"text-align: right;\">\n",
       "      <th></th>\n",
       "      <th>resto_id</th>\n",
       "      <th>count</th>\n",
       "    </tr>\n",
       "  </thead>\n",
       "  <tbody>\n",
       "    <tr>\n",
       "      <th>311</th>\n",
       "      <td>742591683</td>\n",
       "      <td>12</td>\n",
       "    </tr>\n",
       "    <tr>\n",
       "      <th>364</th>\n",
       "      <td>742610474</td>\n",
       "      <td>12</td>\n",
       "    </tr>\n",
       "    <tr>\n",
       "      <th>587</th>\n",
       "      <td>742731698</td>\n",
       "      <td>9</td>\n",
       "    </tr>\n",
       "    <tr>\n",
       "      <th>390</th>\n",
       "      <td>742622470</td>\n",
       "      <td>9</td>\n",
       "    </tr>\n",
       "    <tr>\n",
       "      <th>500</th>\n",
       "      <td>742676756</td>\n",
       "      <td>9</td>\n",
       "    </tr>\n",
       "    <tr>\n",
       "      <th>...</th>\n",
       "      <td>...</td>\n",
       "      <td>...</td>\n",
       "    </tr>\n",
       "    <tr>\n",
       "      <th>250</th>\n",
       "      <td>742565366</td>\n",
       "      <td>1</td>\n",
       "    </tr>\n",
       "    <tr>\n",
       "      <th>249</th>\n",
       "      <td>742564676</td>\n",
       "      <td>1</td>\n",
       "    </tr>\n",
       "    <tr>\n",
       "      <th>248</th>\n",
       "      <td>742564675</td>\n",
       "      <td>1</td>\n",
       "    </tr>\n",
       "    <tr>\n",
       "      <th>247</th>\n",
       "      <td>742562594</td>\n",
       "      <td>1</td>\n",
       "    </tr>\n",
       "    <tr>\n",
       "      <th>670</th>\n",
       "      <td>742814735</td>\n",
       "      <td>1</td>\n",
       "    </tr>\n",
       "  </tbody>\n",
       "</table>\n",
       "<p>671 rows × 2 columns</p>\n",
       "</div>"
      ],
      "text/plain": [
       "      resto_id  count\n",
       "311  742591683     12\n",
       "364  742610474     12\n",
       "587  742731698      9\n",
       "390  742622470      9\n",
       "500  742676756      9\n",
       "..         ...    ...\n",
       "250  742565366      1\n",
       "249  742564676      1\n",
       "248  742564675      1\n",
       "247  742562594      1\n",
       "670  742814735      1\n",
       "\n",
       "[671 rows x 2 columns]"
      ]
     },
     "execution_count": 9,
     "metadata": {},
     "output_type": "execute_result"
    }
   ],
   "source": [
    "id_resto[\"resto_id\"].count() \\\n",
    "                    .reset_index(name='count') \\\n",
    "                    .sort_values(['count'], \\\n",
    "                    ascending=False)"
   ]
  },
  {
   "cell_type": "code",
   "execution_count": 18,
   "metadata": {},
   "outputs": [
    {
     "data": {
      "text/plain": [
       "742641984    4\n",
       "742676756    4\n",
       "742586477    3\n",
       "742591683    3\n",
       "742606960    3\n",
       "            ..\n",
       "742527385    1\n",
       "742703942    1\n",
       "742558808    1\n",
       "742710437    1\n",
       "742678784    1\n",
       "Name: resto_id, Length: 126, dtype: int64"
      ]
     },
     "execution_count": 18,
     "metadata": {},
     "output_type": "execute_result"
    }
   ],
   "source": [
    "#resto yang paling sering dipesan menggunakan voucher\n",
    "voucher=data['voucher_amount']>0\n",
    "data['resto_id'][voucher].value_counts()"
   ]
  },
  {
   "cell_type": "code",
   "execution_count": 19,
   "metadata": {},
   "outputs": [
    {
     "data": {
      "text/plain": [
       "742610474    8\n",
       "742676756    7\n",
       "742538031    7\n",
       "742731698    5\n",
       "742536407    5\n",
       "            ..\n",
       "742588044    1\n",
       "742675089    1\n",
       "742616723    1\n",
       "742741653    1\n",
       "742587001    1\n",
       "Name: resto_id, Length: 430, dtype: int64"
      ]
     },
     "execution_count": 19,
     "metadata": {},
     "output_type": "execute_result"
    }
   ],
   "source": [
    "#resto yang mendapat rating 5\n",
    "rating5=data['rating']>4\n",
    "data['resto_id'][rating5].value_counts()"
   ]
  },
  {
   "cell_type": "code",
   "execution_count": null,
   "metadata": {},
   "outputs": [],
   "source": []
  }
 ],
 "metadata": {
  "kernelspec": {
   "display_name": "Python 3",
   "language": "python",
   "name": "python3"
  },
  "language_info": {
   "codemirror_mode": {
    "name": "ipython",
    "version": 3
   },
   "file_extension": ".py",
   "mimetype": "text/x-python",
   "name": "python",
   "nbconvert_exporter": "python",
   "pygments_lexer": "ipython3",
   "version": "3.8.3"
  }
 },
 "nbformat": 4,
 "nbformat_minor": 4
}
